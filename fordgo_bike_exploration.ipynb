{
 "cells": [
  {
   "cell_type": "markdown",
   "metadata": {
    "id": "y68xphonmu0-"
   },
   "source": [
    "# 2019 Bay Wheels Ride Data Exploration and Visualization\n",
    "<br>\n",
    "\n",
    "## by Sourojyoti Paul\n",
    "\n",
    "<br>\n",
    "\n",
    "## Preliminary Wrangling\n",
    "\n",
    "> Bay Wheels is a regional public bicycle sharing system in California's San Francisco Bay Area. It is operated by Motivate in a partnership with the Metropolitan Transportation Commission and the Bay Area Air Quality Management District. Bay Wheels is 'the first regional and large-scale bicycle sharing system deployed in California and on the West Coast of the United States. It was established as Bay Area Bike Share in August 2013. As of January 2018, the Bay Wheels system had over 2,600 bicycles in 262 stations across San Francisco, East Bay and San Jose.\n",
    "\n",
    ">In June 2017 the system was officially re-launched as Ford GoBike in a partnership with Ford Motor Company.After Motivate's acquisition by Lyft, the system was renamed to Bay Wheels in June 2019.The system is expected to expand to 7,000 bicycles around 540 stations in San Francisco, Oakland, Berkeley, Emeryville, and San Jose."
   ]
  },
  {
   "cell_type": "code",
   "execution_count": 1,
   "metadata": {
    "id": "rILF_gfIadeb"
   },
   "outputs": [],
   "source": [
    "# import all packages and set plots to be embedded inline\n",
    "import numpy as np\n",
    "import pandas as pd\n",
    "import matplotlib.pyplot as plt\n",
    "import seaborn as sb\n",
    "import os\n",
    "import glob\n",
    "import datetime as dt\n",
    "\n",
    "%matplotlib inline"
   ]
  },
  {
   "cell_type": "markdown",
   "metadata": {
    "id": "uOXY9JCbm2MC"
   },
   "source": [
    "## Gathering and Assessing Data\n",
    "Loading dataset and describing and assessing the same."
   ]
  },
  {
   "cell_type": "code",
   "execution_count": 2,
   "metadata": {
    "colab": {
     "base_uri": "https://localhost:8080/",
     "height": 537
    },
    "id": "O163fvUImd89",
    "outputId": "84c06a80-89c7-4971-c201-123dde5fa320"
   },
   "outputs": [
    {
     "name": "stderr",
     "output_type": "stream",
     "text": [
      "/usr/local/lib/python3.7/dist-packages/IPython/core/interactiveshell.py:2822: DtypeWarning: Columns (13,14) have mixed types.Specify dtype option on import or set low_memory=False.\n",
      "  if self.run_code(code, result):\n",
      "/usr/local/lib/python3.7/dist-packages/IPython/core/interactiveshell.py:2822: DtypeWarning: Columns (14) have mixed types.Specify dtype option on import or set low_memory=False.\n",
      "  if self.run_code(code, result):\n",
      "/usr/local/lib/python3.7/dist-packages/IPython/core/interactiveshell.py:2822: DtypeWarning: Columns (13) have mixed types.Specify dtype option on import or set low_memory=False.\n",
      "  if self.run_code(code, result):\n"
     ]
    },
    {
     "name": "stdout",
     "output_type": "stream",
     "text": [
      "(2506983, 17)\n"
     ]
    },
    {
     "data": {
      "text/html": [
       "\n",
       "  <div id=\"df-2c1fde8e-8220-4668-89aa-f67dda58cd76\">\n",
       "    <div class=\"colab-df-container\">\n",
       "      <div>\n",
       "<style scoped>\n",
       "    .dataframe tbody tr th:only-of-type {\n",
       "        vertical-align: middle;\n",
       "    }\n",
       "\n",
       "    .dataframe tbody tr th {\n",
       "        vertical-align: top;\n",
       "    }\n",
       "\n",
       "    .dataframe thead th {\n",
       "        text-align: right;\n",
       "    }\n",
       "</style>\n",
       "<table border=\"1\" class=\"dataframe\">\n",
       "  <thead>\n",
       "    <tr style=\"text-align: right;\">\n",
       "      <th></th>\n",
       "      <th>duration_sec</th>\n",
       "      <th>start_time</th>\n",
       "      <th>end_time</th>\n",
       "      <th>start_station_id</th>\n",
       "      <th>start_station_name</th>\n",
       "      <th>start_station_latitude</th>\n",
       "      <th>start_station_longitude</th>\n",
       "      <th>end_station_id</th>\n",
       "      <th>end_station_name</th>\n",
       "      <th>end_station_latitude</th>\n",
       "      <th>end_station_longitude</th>\n",
       "      <th>bike_id</th>\n",
       "      <th>user_type</th>\n",
       "      <th>member_birth_year</th>\n",
       "      <th>member_gender</th>\n",
       "      <th>bike_share_for_all_trip</th>\n",
       "      <th>rental_access_method</th>\n",
       "    </tr>\n",
       "  </thead>\n",
       "  <tbody>\n",
       "    <tr>\n",
       "      <th>1746161</th>\n",
       "      <td>192</td>\n",
       "      <td>2019-06-10 08:29:50.2610</td>\n",
       "      <td>2019-06-10 08:33:03.0550</td>\n",
       "      <td>77.0</td>\n",
       "      <td>11th St at Natoma St</td>\n",
       "      <td>37.773507</td>\n",
       "      <td>-122.416040</td>\n",
       "      <td>77.0</td>\n",
       "      <td>11th St at Natoma St</td>\n",
       "      <td>37.773507</td>\n",
       "      <td>-122.416040</td>\n",
       "      <td>1103</td>\n",
       "      <td>Customer</td>\n",
       "      <td>NaN</td>\n",
       "      <td>NaN</td>\n",
       "      <td>No</td>\n",
       "      <td>NaN</td>\n",
       "    </tr>\n",
       "    <tr>\n",
       "      <th>565405</th>\n",
       "      <td>982</td>\n",
       "      <td>2019-04-12 18:46:44.8680</td>\n",
       "      <td>2019-04-12 19:03:06.9410</td>\n",
       "      <td>67.0</td>\n",
       "      <td>San Francisco Caltrain Station 2  (Townsend St...</td>\n",
       "      <td>37.776639</td>\n",
       "      <td>-122.395526</td>\n",
       "      <td>123.0</td>\n",
       "      <td>Folsom St at 19th St</td>\n",
       "      <td>37.760594</td>\n",
       "      <td>-122.414817</td>\n",
       "      <td>2807</td>\n",
       "      <td>Customer</td>\n",
       "      <td>1988.0</td>\n",
       "      <td>Male</td>\n",
       "      <td>No</td>\n",
       "      <td>NaN</td>\n",
       "    </tr>\n",
       "    <tr>\n",
       "      <th>2467768</th>\n",
       "      <td>274</td>\n",
       "      <td>2019-02-07 12:58:53.8340</td>\n",
       "      <td>2019-02-07 13:03:28.3880</td>\n",
       "      <td>61.0</td>\n",
       "      <td>Howard St at 8th St</td>\n",
       "      <td>37.776513</td>\n",
       "      <td>-122.411306</td>\n",
       "      <td>349.0</td>\n",
       "      <td>Howard St at Mary St</td>\n",
       "      <td>37.781010</td>\n",
       "      <td>-122.405666</td>\n",
       "      <td>3621</td>\n",
       "      <td>Subscriber</td>\n",
       "      <td>1999.0</td>\n",
       "      <td>Male</td>\n",
       "      <td>No</td>\n",
       "      <td>NaN</td>\n",
       "    </tr>\n",
       "    <tr>\n",
       "      <th>213925</th>\n",
       "      <td>882</td>\n",
       "      <td>2019-03-29 08:47:26.5250</td>\n",
       "      <td>2019-03-29 09:02:08.7110</td>\n",
       "      <td>15.0</td>\n",
       "      <td>San Francisco Ferry Building (Harry Bridges Pl...</td>\n",
       "      <td>37.795392</td>\n",
       "      <td>-122.394203</td>\n",
       "      <td>87.0</td>\n",
       "      <td>Folsom St at 13th St</td>\n",
       "      <td>37.769757</td>\n",
       "      <td>-122.415674</td>\n",
       "      <td>2032</td>\n",
       "      <td>Subscriber</td>\n",
       "      <td>1974.0</td>\n",
       "      <td>Male</td>\n",
       "      <td>No</td>\n",
       "      <td>NaN</td>\n",
       "    </tr>\n",
       "    <tr>\n",
       "      <th>1250292</th>\n",
       "      <td>778</td>\n",
       "      <td>2019-08-16 16:26:04.7450</td>\n",
       "      <td>2019-08-16 16:39:02.9370</td>\n",
       "      <td>42.0</td>\n",
       "      <td>San Francisco City Hall (Polk St at Grove St)</td>\n",
       "      <td>37.778650</td>\n",
       "      <td>-122.418230</td>\n",
       "      <td>31.0</td>\n",
       "      <td>Raymond Kimbell Playground</td>\n",
       "      <td>37.783813</td>\n",
       "      <td>-122.434559</td>\n",
       "      <td>1244</td>\n",
       "      <td>Subscriber</td>\n",
       "      <td>NaN</td>\n",
       "      <td>NaN</td>\n",
       "      <td>No</td>\n",
       "      <td>NaN</td>\n",
       "    </tr>\n",
       "  </tbody>\n",
       "</table>\n",
       "</div>\n",
       "      <button class=\"colab-df-convert\" onclick=\"convertToInteractive('df-2c1fde8e-8220-4668-89aa-f67dda58cd76')\"\n",
       "              title=\"Convert this dataframe to an interactive table.\"\n",
       "              style=\"display:none;\">\n",
       "        \n",
       "  <svg xmlns=\"http://www.w3.org/2000/svg\" height=\"24px\"viewBox=\"0 0 24 24\"\n",
       "       width=\"24px\">\n",
       "    <path d=\"M0 0h24v24H0V0z\" fill=\"none\"/>\n",
       "    <path d=\"M18.56 5.44l.94 2.06.94-2.06 2.06-.94-2.06-.94-.94-2.06-.94 2.06-2.06.94zm-11 1L8.5 8.5l.94-2.06 2.06-.94-2.06-.94L8.5 2.5l-.94 2.06-2.06.94zm10 10l.94 2.06.94-2.06 2.06-.94-2.06-.94-.94-2.06-.94 2.06-2.06.94z\"/><path d=\"M17.41 7.96l-1.37-1.37c-.4-.4-.92-.59-1.43-.59-.52 0-1.04.2-1.43.59L10.3 9.45l-7.72 7.72c-.78.78-.78 2.05 0 2.83L4 21.41c.39.39.9.59 1.41.59.51 0 1.02-.2 1.41-.59l7.78-7.78 2.81-2.81c.8-.78.8-2.07 0-2.86zM5.41 20L4 18.59l7.72-7.72 1.47 1.35L5.41 20z\"/>\n",
       "  </svg>\n",
       "      </button>\n",
       "      \n",
       "  <style>\n",
       "    .colab-df-container {\n",
       "      display:flex;\n",
       "      flex-wrap:wrap;\n",
       "      gap: 12px;\n",
       "    }\n",
       "\n",
       "    .colab-df-convert {\n",
       "      background-color: #E8F0FE;\n",
       "      border: none;\n",
       "      border-radius: 50%;\n",
       "      cursor: pointer;\n",
       "      display: none;\n",
       "      fill: #1967D2;\n",
       "      height: 32px;\n",
       "      padding: 0 0 0 0;\n",
       "      width: 32px;\n",
       "    }\n",
       "\n",
       "    .colab-df-convert:hover {\n",
       "      background-color: #E2EBFA;\n",
       "      box-shadow: 0px 1px 2px rgba(60, 64, 67, 0.3), 0px 1px 3px 1px rgba(60, 64, 67, 0.15);\n",
       "      fill: #174EA6;\n",
       "    }\n",
       "\n",
       "    [theme=dark] .colab-df-convert {\n",
       "      background-color: #3B4455;\n",
       "      fill: #D2E3FC;\n",
       "    }\n",
       "\n",
       "    [theme=dark] .colab-df-convert:hover {\n",
       "      background-color: #434B5C;\n",
       "      box-shadow: 0px 1px 3px 1px rgba(0, 0, 0, 0.15);\n",
       "      filter: drop-shadow(0px 1px 2px rgba(0, 0, 0, 0.3));\n",
       "      fill: #FFFFFF;\n",
       "    }\n",
       "  </style>\n",
       "\n",
       "      <script>\n",
       "        const buttonEl =\n",
       "          document.querySelector('#df-2c1fde8e-8220-4668-89aa-f67dda58cd76 button.colab-df-convert');\n",
       "        buttonEl.style.display =\n",
       "          google.colab.kernel.accessAllowed ? 'block' : 'none';\n",
       "\n",
       "        async function convertToInteractive(key) {\n",
       "          const element = document.querySelector('#df-2c1fde8e-8220-4668-89aa-f67dda58cd76');\n",
       "          const dataTable =\n",
       "            await google.colab.kernel.invokeFunction('convertToInteractive',\n",
       "                                                     [key], {});\n",
       "          if (!dataTable) return;\n",
       "\n",
       "          const docLinkHtml = 'Like what you see? Visit the ' +\n",
       "            '<a target=\"_blank\" href=https://colab.research.google.com/notebooks/data_table.ipynb>data table notebook</a>'\n",
       "            + ' to learn more about interactive tables.';\n",
       "          element.innerHTML = '';\n",
       "          dataTable['output_type'] = 'display_data';\n",
       "          await google.colab.output.renderOutput(dataTable, element);\n",
       "          const docLink = document.createElement('div');\n",
       "          docLink.innerHTML = docLinkHtml;\n",
       "          element.appendChild(docLink);\n",
       "        }\n",
       "      </script>\n",
       "    </div>\n",
       "  </div>\n",
       "  "
      ],
      "text/plain": [
       "         duration_sec  ... rental_access_method\n",
       "1746161           192  ...                  NaN\n",
       "565405            982  ...                  NaN\n",
       "2467768           274  ...                  NaN\n",
       "213925            882  ...                  NaN\n",
       "1250292           778  ...                  NaN\n",
       "\n",
       "[5 rows x 17 columns]"
      ]
     },
     "execution_count": 2,
     "metadata": {},
     "output_type": "execute_result"
    }
   ],
   "source": [
    "folder_name = '/content/drive/MyDrive/data'\n",
    "frames = [pd.read_csv(f) for f in glob.glob(os.path.join(folder_name, '*.csv'))]\n",
    "result = pd.concat(frames, ignore_index=True)\n",
    "print(result.shape)\n",
    "result.sample(5)"
   ]
  },
  {
   "cell_type": "code",
   "execution_count": 3,
   "metadata": {
    "colab": {
     "base_uri": "https://localhost:8080/"
    },
    "id": "SI8d-fvsm-Dx",
    "outputId": "2f8ddd22-b970-4fb8-c2de-e2d4832acdc9"
   },
   "outputs": [
    {
     "data": {
      "text/plain": [
       "(2506983, 17)"
      ]
     },
     "execution_count": 3,
     "metadata": {},
     "output_type": "execute_result"
    }
   ],
   "source": [
    "df = result.copy()\n",
    "df.shape"
   ]
  },
  {
   "cell_type": "code",
   "execution_count": 4,
   "metadata": {
    "colab": {
     "base_uri": "https://localhost:8080/"
    },
    "id": "nGj8GR0Xndbm",
    "outputId": "e300b4ab-65fb-4e9f-ede8-e94245437c72"
   },
   "outputs": [
    {
     "name": "stdout",
     "output_type": "stream",
     "text": [
      "<class 'pandas.core.frame.DataFrame'>\n",
      "RangeIndex: 2506983 entries, 0 to 2506982\n",
      "Data columns (total 17 columns):\n",
      " #   Column                   Dtype  \n",
      "---  ------                   -----  \n",
      " 0   duration_sec             int64  \n",
      " 1   start_time               object \n",
      " 2   end_time                 object \n",
      " 3   start_station_id         float64\n",
      " 4   start_station_name       object \n",
      " 5   start_station_latitude   float64\n",
      " 6   start_station_longitude  float64\n",
      " 7   end_station_id           float64\n",
      " 8   end_station_name         object \n",
      " 9   end_station_latitude     float64\n",
      " 10  end_station_longitude    float64\n",
      " 11  bike_id                  int64  \n",
      " 12  user_type                object \n",
      " 13  member_birth_year        float64\n",
      " 14  member_gender            object \n",
      " 15  bike_share_for_all_trip  object \n",
      " 16  rental_access_method     object \n",
      "dtypes: float64(7), int64(2), object(8)\n",
      "memory usage: 325.2+ MB\n"
     ]
    }
   ],
   "source": [
    "#overview of the dataset\n",
    "df.info()"
   ]
  },
  {
   "cell_type": "markdown",
   "metadata": {
    "id": "mY65SV2Iodb_"
   },
   "source": [
    "#### Observation\n",
    ">from the above we can see there are mismatch in datatype for various features\n",
    "* start_time\n",
    "* end_time\n",
    "* start_station_id\n",
    "* end_station_id\n",
    "* bike_id\n",
    "* user_type\n",
    "* member_gender"
   ]
  },
  {
   "cell_type": "code",
   "execution_count": 5,
   "metadata": {
    "colab": {
     "base_uri": "https://localhost:8080/"
    },
    "id": "-5ChFBeeoTpR",
    "outputId": "ccd6ac7b-7d7c-4083-8623-8d11fb90045e"
   },
   "outputs": [
    {
     "data": {
      "text/plain": [
       "duration_sec                     0\n",
       "start_time                       0\n",
       "end_time                         0\n",
       "start_station_id             80734\n",
       "start_station_name           80133\n",
       "start_station_latitude           0\n",
       "start_station_longitude          0\n",
       "end_station_id               82902\n",
       "end_station_name             82350\n",
       "end_station_latitude             0\n",
       "end_station_longitude            0\n",
       "bike_id                          0\n",
       "user_type                        0\n",
       "member_birth_year          1676986\n",
       "member_gender              1676983\n",
       "bike_share_for_all_trip     243259\n",
       "rental_access_method       2386145\n",
       "dtype: int64"
      ]
     },
     "execution_count": 5,
     "metadata": {},
     "output_type": "execute_result"
    }
   ],
   "source": [
    "#to check if there are any null values present in th dataset\n",
    "df.isnull().sum()"
   ]
  },
  {
   "cell_type": "markdown",
   "metadata": {
    "id": "Fr_RbCkRoZch"
   },
   "source": [
    "#### Observation\n",
    "> null values found in the below features\n",
    "* start_station_id\n",
    "* start_station_name\n",
    "* end_station_id\n",
    "* end_station_name\n",
    "* member_birth_year\n",
    "* member_gender\n",
    "* bike_share_for_all_trip\n",
    "* rental_access_method"
   ]
  },
  {
   "cell_type": "code",
   "execution_count": 6,
   "metadata": {
    "colab": {
     "base_uri": "https://localhost:8080/"
    },
    "id": "ln3nQ7Z_onCB",
    "outputId": "4448de70-427c-44ef-ac07-5dc4405e0f9e"
   },
   "outputs": [
    {
     "data": {
      "text/plain": [
       "0"
      ]
     },
     "execution_count": 6,
     "metadata": {},
     "output_type": "execute_result"
    }
   ],
   "source": [
    "#checking the presence of duplicated values in the dataset\n",
    "df.duplicated().sum()"
   ]
  },
  {
   "cell_type": "markdown",
   "metadata": {
    "id": "Y5ud5B92oxet"
   },
   "source": [
    "#### Observation\n",
    "> none of the features are having duplicates"
   ]
  },
  {
   "cell_type": "code",
   "execution_count": 7,
   "metadata": {
    "colab": {
     "base_uri": "https://localhost:8080/"
    },
    "id": "7ST1LZGOosDb",
    "outputId": "0ea3552b-667b-4bbe-b711-f03c239f1993"
   },
   "outputs": [
    {
     "data": {
      "text/plain": [
       "Subscriber    2021166\n",
       "Customer       485817\n",
       "Name: user_type, dtype: int64"
      ]
     },
     "execution_count": 7,
     "metadata": {},
     "output_type": "execute_result"
    }
   ],
   "source": [
    "#this business has two user types 'Subscriber' & 'Customer'\n",
    "#checking which user type is having more members\n",
    "df.user_type.value_counts()"
   ]
  },
  {
   "cell_type": "markdown",
   "metadata": {
    "id": "GobvYR5bo_5V"
   },
   "source": [
    "#### Observation\n",
    "> subscriber user type is clearly having more members than customer user type"
   ]
  },
  {
   "cell_type": "markdown",
   "metadata": {
    "id": "MsGa0b2bpE6Q"
   },
   "source": [
    "### Cleaning Data"
   ]
  },
  {
   "cell_type": "code",
   "execution_count": 8,
   "metadata": {
    "id": "d-V75Tmqo2wW"
   },
   "outputs": [],
   "source": [
    "#as part of best practices, it is always helpful to have the dataframe copied\n",
    "df_copy = df.copy()"
   ]
  },
  {
   "cell_type": "markdown",
   "metadata": {
    "id": "sXrAMxiapK3R"
   },
   "source": [
    "*let us now begin by fixing the issues*\n",
    "\n",
    "#### Issue #1\n",
    "*multiple fields that are not in the correct dtype*"
   ]
  },
  {
   "cell_type": "code",
   "execution_count": 9,
   "metadata": {
    "colab": {
     "base_uri": "https://localhost:8080/"
    },
    "id": "SC_SFsYWpHoU",
    "outputId": "f7f0fe5d-0b03-411d-ae30-9fd1aec620c5"
   },
   "outputs": [
    {
     "name": "stdout",
     "output_type": "stream",
     "text": [
      "<class 'pandas.core.frame.DataFrame'>\n",
      "RangeIndex: 2506983 entries, 0 to 2506982\n",
      "Data columns (total 17 columns):\n",
      " #   Column                   Non-Null Count    Dtype         \n",
      "---  ------                   --------------    -----         \n",
      " 0   duration_sec             2506983 non-null  int64         \n",
      " 1   start_time               2506983 non-null  datetime64[ns]\n",
      " 2   end_time                 2506983 non-null  datetime64[ns]\n",
      " 3   start_station_id         2506983 non-null  object        \n",
      " 4   start_station_name       2426850 non-null  object        \n",
      " 5   start_station_latitude   2506983 non-null  float64       \n",
      " 6   start_station_longitude  2506983 non-null  float64       \n",
      " 7   end_station_id           2506983 non-null  object        \n",
      " 8   end_station_name         2424633 non-null  object        \n",
      " 9   end_station_latitude     2506983 non-null  float64       \n",
      " 10  end_station_longitude    2506983 non-null  float64       \n",
      " 11  bike_id                  2506983 non-null  object        \n",
      " 12  user_type                2506983 non-null  category      \n",
      " 13  member_birth_year        829997 non-null   float64       \n",
      " 14  member_gender            830000 non-null   category      \n",
      " 15  bike_share_for_all_trip  2263724 non-null  object        \n",
      " 16  rental_access_method     120838 non-null   object        \n",
      "dtypes: category(2), datetime64[ns](2), float64(5), int64(1), object(7)\n",
      "memory usage: 291.7+ MB\n"
     ]
    }
   ],
   "source": [
    "df['start_time'] = pd.to_datetime(df['start_time'])\n",
    "df['end_time'] = pd.to_datetime(df['end_time'])\n",
    "\n",
    "df['start_station_id'] = df['start_station_id'].astype('str')\n",
    "df['end_station_id'] = df['end_station_id'].astype('str')\n",
    "df['bike_id'] = df['bike_id'].astype('str')\n",
    "\n",
    "df['user_type'] = df['user_type'].astype('category')\n",
    "df['member_gender'] = df['member_gender'].astype('category')\n",
    "\n",
    "df.info(null_counts=True)"
   ]
  },
  {
   "cell_type": "code",
   "execution_count": 10,
   "metadata": {
    "colab": {
     "base_uri": "https://localhost:8080/"
    },
    "id": "R1iym0I7w6wk",
    "outputId": "976c7818-4bbd-43cf-a025-62177b8495b8"
   },
   "outputs": [
    {
     "data": {
      "text/plain": [
       "(2506983, 17)"
      ]
     },
     "execution_count": 10,
     "metadata": {},
     "output_type": "execute_result"
    }
   ],
   "source": [
    "df_backup = df.copy()\n",
    "df_backup.shape"
   ]
  },
  {
   "cell_type": "markdown",
   "metadata": {
    "id": "xpu8AXp0pcXw"
   },
   "source": [
    "#### Issue #2\n",
    "add new columns for trip duration in minute, trip start date in yyyy-mm-dd format, trip start hour of the day, day of week and month"
   ]
  },
  {
   "cell_type": "code",
   "execution_count": 11,
   "metadata": {
    "colab": {
     "base_uri": "https://localhost:8080/",
     "height": 356
    },
    "id": "vM6toIlApWqJ",
    "outputId": "a1f6e901-35df-494b-8c64-b0976bf66d02"
   },
   "outputs": [
    {
     "data": {
      "text/html": [
       "\n",
       "  <div id=\"df-84163497-f2d1-4b7e-9094-6666ed70731e\">\n",
       "    <div class=\"colab-df-container\">\n",
       "      <div>\n",
       "<style scoped>\n",
       "    .dataframe tbody tr th:only-of-type {\n",
       "        vertical-align: middle;\n",
       "    }\n",
       "\n",
       "    .dataframe tbody tr th {\n",
       "        vertical-align: top;\n",
       "    }\n",
       "\n",
       "    .dataframe thead th {\n",
       "        text-align: right;\n",
       "    }\n",
       "</style>\n",
       "<table border=\"1\" class=\"dataframe\">\n",
       "  <thead>\n",
       "    <tr style=\"text-align: right;\">\n",
       "      <th></th>\n",
       "      <th>duration_sec</th>\n",
       "      <th>start_time</th>\n",
       "      <th>end_time</th>\n",
       "      <th>start_station_id</th>\n",
       "      <th>start_station_name</th>\n",
       "      <th>start_station_latitude</th>\n",
       "      <th>start_station_longitude</th>\n",
       "      <th>end_station_id</th>\n",
       "      <th>end_station_name</th>\n",
       "      <th>end_station_latitude</th>\n",
       "      <th>end_station_longitude</th>\n",
       "      <th>bike_id</th>\n",
       "      <th>user_type</th>\n",
       "      <th>member_birth_year</th>\n",
       "      <th>member_gender</th>\n",
       "      <th>bike_share_for_all_trip</th>\n",
       "      <th>rental_access_method</th>\n",
       "      <th>start_date</th>\n",
       "      <th>start_hourofday</th>\n",
       "      <th>start_dayofweek</th>\n",
       "      <th>start_month</th>\n",
       "    </tr>\n",
       "  </thead>\n",
       "  <tbody>\n",
       "    <tr>\n",
       "      <th>0</th>\n",
       "      <td>80825</td>\n",
       "      <td>2019-01-31 17:57:44.613</td>\n",
       "      <td>2019-02-01 16:24:49.864</td>\n",
       "      <td>229.0</td>\n",
       "      <td>Foothill Blvd at 42nd Ave</td>\n",
       "      <td>37.775745</td>\n",
       "      <td>-122.213037</td>\n",
       "      <td>196.0</td>\n",
       "      <td>Grand Ave at Perkins St</td>\n",
       "      <td>37.808894</td>\n",
       "      <td>-122.256460</td>\n",
       "      <td>4861</td>\n",
       "      <td>Subscriber</td>\n",
       "      <td>1989.0</td>\n",
       "      <td>Male</td>\n",
       "      <td>No</td>\n",
       "      <td>NaN</td>\n",
       "      <td>2019-01-31</td>\n",
       "      <td>17</td>\n",
       "      <td>Thursday</td>\n",
       "      <td>January</td>\n",
       "    </tr>\n",
       "    <tr>\n",
       "      <th>1</th>\n",
       "      <td>65900</td>\n",
       "      <td>2019-01-31 20:58:33.886</td>\n",
       "      <td>2019-02-01 15:16:54.173</td>\n",
       "      <td>4.0</td>\n",
       "      <td>Cyril Magnin St at Ellis St</td>\n",
       "      <td>37.785881</td>\n",
       "      <td>-122.408915</td>\n",
       "      <td>134.0</td>\n",
       "      <td>Valencia St at 24th St</td>\n",
       "      <td>37.752428</td>\n",
       "      <td>-122.420628</td>\n",
       "      <td>5506</td>\n",
       "      <td>Subscriber</td>\n",
       "      <td>1989.0</td>\n",
       "      <td>Male</td>\n",
       "      <td>No</td>\n",
       "      <td>NaN</td>\n",
       "      <td>2019-01-31</td>\n",
       "      <td>20</td>\n",
       "      <td>Thursday</td>\n",
       "      <td>January</td>\n",
       "    </tr>\n",
       "    <tr>\n",
       "      <th>2</th>\n",
       "      <td>62633</td>\n",
       "      <td>2019-01-31 18:06:52.924</td>\n",
       "      <td>2019-02-01 11:30:46.530</td>\n",
       "      <td>245.0</td>\n",
       "      <td>Downtown Berkeley BART</td>\n",
       "      <td>37.870139</td>\n",
       "      <td>-122.268422</td>\n",
       "      <td>157.0</td>\n",
       "      <td>65th St at Hollis St</td>\n",
       "      <td>37.846784</td>\n",
       "      <td>-122.291376</td>\n",
       "      <td>2717</td>\n",
       "      <td>Customer</td>\n",
       "      <td>1965.0</td>\n",
       "      <td>Female</td>\n",
       "      <td>No</td>\n",
       "      <td>NaN</td>\n",
       "      <td>2019-01-31</td>\n",
       "      <td>18</td>\n",
       "      <td>Thursday</td>\n",
       "      <td>January</td>\n",
       "    </tr>\n",
       "    <tr>\n",
       "      <th>3</th>\n",
       "      <td>44680</td>\n",
       "      <td>2019-01-31 19:46:09.719</td>\n",
       "      <td>2019-02-01 08:10:50.318</td>\n",
       "      <td>85.0</td>\n",
       "      <td>Church St at Duboce Ave</td>\n",
       "      <td>37.770083</td>\n",
       "      <td>-122.429156</td>\n",
       "      <td>53.0</td>\n",
       "      <td>Grove St at Divisadero</td>\n",
       "      <td>37.775946</td>\n",
       "      <td>-122.437777</td>\n",
       "      <td>4557</td>\n",
       "      <td>Customer</td>\n",
       "      <td>1974.0</td>\n",
       "      <td>Male</td>\n",
       "      <td>No</td>\n",
       "      <td>NaN</td>\n",
       "      <td>2019-01-31</td>\n",
       "      <td>19</td>\n",
       "      <td>Thursday</td>\n",
       "      <td>January</td>\n",
       "    </tr>\n",
       "    <tr>\n",
       "      <th>4</th>\n",
       "      <td>60709</td>\n",
       "      <td>2019-01-31 14:19:01.541</td>\n",
       "      <td>2019-02-01 07:10:51.065</td>\n",
       "      <td>16.0</td>\n",
       "      <td>Steuart St at Market St</td>\n",
       "      <td>37.794130</td>\n",
       "      <td>-122.394430</td>\n",
       "      <td>28.0</td>\n",
       "      <td>The Embarcadero at Bryant St</td>\n",
       "      <td>37.787168</td>\n",
       "      <td>-122.388098</td>\n",
       "      <td>2100</td>\n",
       "      <td>Customer</td>\n",
       "      <td>NaN</td>\n",
       "      <td>NaN</td>\n",
       "      <td>No</td>\n",
       "      <td>NaN</td>\n",
       "      <td>2019-01-31</td>\n",
       "      <td>14</td>\n",
       "      <td>Thursday</td>\n",
       "      <td>January</td>\n",
       "    </tr>\n",
       "  </tbody>\n",
       "</table>\n",
       "</div>\n",
       "      <button class=\"colab-df-convert\" onclick=\"convertToInteractive('df-84163497-f2d1-4b7e-9094-6666ed70731e')\"\n",
       "              title=\"Convert this dataframe to an interactive table.\"\n",
       "              style=\"display:none;\">\n",
       "        \n",
       "  <svg xmlns=\"http://www.w3.org/2000/svg\" height=\"24px\"viewBox=\"0 0 24 24\"\n",
       "       width=\"24px\">\n",
       "    <path d=\"M0 0h24v24H0V0z\" fill=\"none\"/>\n",
       "    <path d=\"M18.56 5.44l.94 2.06.94-2.06 2.06-.94-2.06-.94-.94-2.06-.94 2.06-2.06.94zm-11 1L8.5 8.5l.94-2.06 2.06-.94-2.06-.94L8.5 2.5l-.94 2.06-2.06.94zm10 10l.94 2.06.94-2.06 2.06-.94-2.06-.94-.94-2.06-.94 2.06-2.06.94z\"/><path d=\"M17.41 7.96l-1.37-1.37c-.4-.4-.92-.59-1.43-.59-.52 0-1.04.2-1.43.59L10.3 9.45l-7.72 7.72c-.78.78-.78 2.05 0 2.83L4 21.41c.39.39.9.59 1.41.59.51 0 1.02-.2 1.41-.59l7.78-7.78 2.81-2.81c.8-.78.8-2.07 0-2.86zM5.41 20L4 18.59l7.72-7.72 1.47 1.35L5.41 20z\"/>\n",
       "  </svg>\n",
       "      </button>\n",
       "      \n",
       "  <style>\n",
       "    .colab-df-container {\n",
       "      display:flex;\n",
       "      flex-wrap:wrap;\n",
       "      gap: 12px;\n",
       "    }\n",
       "\n",
       "    .colab-df-convert {\n",
       "      background-color: #E8F0FE;\n",
       "      border: none;\n",
       "      border-radius: 50%;\n",
       "      cursor: pointer;\n",
       "      display: none;\n",
       "      fill: #1967D2;\n",
       "      height: 32px;\n",
       "      padding: 0 0 0 0;\n",
       "      width: 32px;\n",
       "    }\n",
       "\n",
       "    .colab-df-convert:hover {\n",
       "      background-color: #E2EBFA;\n",
       "      box-shadow: 0px 1px 2px rgba(60, 64, 67, 0.3), 0px 1px 3px 1px rgba(60, 64, 67, 0.15);\n",
       "      fill: #174EA6;\n",
       "    }\n",
       "\n",
       "    [theme=dark] .colab-df-convert {\n",
       "      background-color: #3B4455;\n",
       "      fill: #D2E3FC;\n",
       "    }\n",
       "\n",
       "    [theme=dark] .colab-df-convert:hover {\n",
       "      background-color: #434B5C;\n",
       "      box-shadow: 0px 1px 3px 1px rgba(0, 0, 0, 0.15);\n",
       "      filter: drop-shadow(0px 1px 2px rgba(0, 0, 0, 0.3));\n",
       "      fill: #FFFFFF;\n",
       "    }\n",
       "  </style>\n",
       "\n",
       "      <script>\n",
       "        const buttonEl =\n",
       "          document.querySelector('#df-84163497-f2d1-4b7e-9094-6666ed70731e button.colab-df-convert');\n",
       "        buttonEl.style.display =\n",
       "          google.colab.kernel.accessAllowed ? 'block' : 'none';\n",
       "\n",
       "        async function convertToInteractive(key) {\n",
       "          const element = document.querySelector('#df-84163497-f2d1-4b7e-9094-6666ed70731e');\n",
       "          const dataTable =\n",
       "            await google.colab.kernel.invokeFunction('convertToInteractive',\n",
       "                                                     [key], {});\n",
       "          if (!dataTable) return;\n",
       "\n",
       "          const docLinkHtml = 'Like what you see? Visit the ' +\n",
       "            '<a target=\"_blank\" href=https://colab.research.google.com/notebooks/data_table.ipynb>data table notebook</a>'\n",
       "            + ' to learn more about interactive tables.';\n",
       "          element.innerHTML = '';\n",
       "          dataTable['output_type'] = 'display_data';\n",
       "          await google.colab.output.renderOutput(dataTable, element);\n",
       "          const docLink = document.createElement('div');\n",
       "          docLink.innerHTML = docLinkHtml;\n",
       "          element.appendChild(docLink);\n",
       "        }\n",
       "      </script>\n",
       "    </div>\n",
       "  </div>\n",
       "  "
      ],
      "text/plain": [
       "   duration_sec              start_time  ... start_dayofweek start_month\n",
       "0         80825 2019-01-31 17:57:44.613  ...        Thursday     January\n",
       "1         65900 2019-01-31 20:58:33.886  ...        Thursday     January\n",
       "2         62633 2019-01-31 18:06:52.924  ...        Thursday     January\n",
       "3         44680 2019-01-31 19:46:09.719  ...        Thursday     January\n",
       "4         60709 2019-01-31 14:19:01.541  ...        Thursday     January\n",
       "\n",
       "[5 rows x 21 columns]"
      ]
     },
     "execution_count": 11,
     "metadata": {},
     "output_type": "execute_result"
    }
   ],
   "source": [
    "#df['duration_minute'] = df['duration_sec']/60\n",
    "\n",
    "df['start_date'] = df['start_time'].dt.strftime('%Y-%m-%d')\n",
    "df['start_hourofday'] = df['start_time'].dt.strftime('%H')\n",
    "df['start_dayofweek'] = df['start_time'].dt.strftime('%A')\n",
    "df['start_month'] = df['start_time'].dt.strftime('%B')\n",
    "\n",
    "df.head()"
   ]
  },
  {
   "cell_type": "code",
   "execution_count": 12,
   "metadata": {
    "colab": {
     "base_uri": "https://localhost:8080/"
    },
    "id": "IMyaHzIBriXb",
    "outputId": "21048e09-124c-4725-974e-55527e4eb08f"
   },
   "outputs": [
    {
     "data": {
      "text/plain": [
       "(2506983, 21)"
      ]
     },
     "execution_count": 12,
     "metadata": {},
     "output_type": "execute_result"
    }
   ],
   "source": [
    "df.shape"
   ]
  },
  {
   "cell_type": "code",
   "execution_count": 13,
   "metadata": {
    "id": "qUpIIzu6vjT2"
   },
   "outputs": [],
   "source": [
    "df_backup2 = df.copy()"
   ]
  },
  {
   "cell_type": "code",
   "execution_count": 14,
   "metadata": {
    "id": "gz0BBxG9zSA3"
   },
   "outputs": [],
   "source": [
    "df = df_backup2.copy()"
   ]
  },
  {
   "cell_type": "code",
   "execution_count": 15,
   "metadata": {
    "id": "98zv7op_v7r-"
   },
   "outputs": [],
   "source": [
    "df['duration_minute'] = (df['duration_sec']/60)"
   ]
  },
  {
   "cell_type": "code",
   "execution_count": 16,
   "metadata": {
    "colab": {
     "base_uri": "https://localhost:8080/"
    },
    "id": "jbIr-ZZkwQ5U",
    "outputId": "3c227c18-c4f9-48be-9c42-1e6044d7c4ad"
   },
   "outputs": [
    {
     "data": {
      "text/plain": [
       "(2506983, 22)"
      ]
     },
     "execution_count": 16,
     "metadata": {},
     "output_type": "execute_result"
    }
   ],
   "source": [
    "df.shape"
   ]
  },
  {
   "cell_type": "code",
   "execution_count": 17,
   "metadata": {
    "id": "jXEvidTA5itj"
   },
   "outputs": [],
   "source": [
    "df_backup['start_month'] = df_backup['start_time'].dt.strftime('%B')"
   ]
  },
  {
   "cell_type": "code",
   "execution_count": 18,
   "metadata": {
    "colab": {
     "base_uri": "https://localhost:8080/"
    },
    "id": "WG1fn-ce57yi",
    "outputId": "3e72b34c-4783-4fda-f260-0f78d9a786ec"
   },
   "outputs": [
    {
     "data": {
      "text/plain": [
       "array(['January', 'March', 'April', 'September', 'October', 'August',\n",
       "       'July', 'June', 'May', 'November', 'December', 'February'],\n",
       "      dtype=object)"
      ]
     },
     "execution_count": 18,
     "metadata": {},
     "output_type": "execute_result"
    }
   ],
   "source": [
    "df.start_month.unique()"
   ]
  },
  {
   "cell_type": "markdown",
   "metadata": {
    "id": "ODCs-0v_qOPz"
   },
   "source": [
    "#### Issue #3\n",
    "add a new column calculating riders' age from 'member_birth_year'"
   ]
  },
  {
   "cell_type": "code",
   "execution_count": 19,
   "metadata": {
    "colab": {
     "base_uri": "https://localhost:8080/",
     "height": 300
    },
    "id": "TKWnvXWlpgVi",
    "outputId": "8149cc68-ed1f-4987-8dac-f619a92c5a28"
   },
   "outputs": [
    {
     "data": {
      "text/html": [
       "\n",
       "  <div id=\"df-bd5f2deb-ad1e-40df-9776-c27833509022\">\n",
       "    <div class=\"colab-df-container\">\n",
       "      <div>\n",
       "<style scoped>\n",
       "    .dataframe tbody tr th:only-of-type {\n",
       "        vertical-align: middle;\n",
       "    }\n",
       "\n",
       "    .dataframe tbody tr th {\n",
       "        vertical-align: top;\n",
       "    }\n",
       "\n",
       "    .dataframe thead th {\n",
       "        text-align: right;\n",
       "    }\n",
       "</style>\n",
       "<table border=\"1\" class=\"dataframe\">\n",
       "  <thead>\n",
       "    <tr style=\"text-align: right;\">\n",
       "      <th></th>\n",
       "      <th>duration_sec</th>\n",
       "      <th>start_station_latitude</th>\n",
       "      <th>start_station_longitude</th>\n",
       "      <th>end_station_latitude</th>\n",
       "      <th>end_station_longitude</th>\n",
       "      <th>member_birth_year</th>\n",
       "      <th>duration_minute</th>\n",
       "      <th>member_age</th>\n",
       "    </tr>\n",
       "  </thead>\n",
       "  <tbody>\n",
       "    <tr>\n",
       "      <th>count</th>\n",
       "      <td>2.506983e+06</td>\n",
       "      <td>2.506983e+06</td>\n",
       "      <td>2.506983e+06</td>\n",
       "      <td>2.506983e+06</td>\n",
       "      <td>2.506983e+06</td>\n",
       "      <td>829997.000000</td>\n",
       "      <td>2.506983e+06</td>\n",
       "      <td>829997.000000</td>\n",
       "    </tr>\n",
       "    <tr>\n",
       "      <th>mean</th>\n",
       "      <td>8.076483e+02</td>\n",
       "      <td>3.776506e+01</td>\n",
       "      <td>-1.223499e+02</td>\n",
       "      <td>3.776422e+01</td>\n",
       "      <td>-1.223459e+02</td>\n",
       "      <td>1984.731395</td>\n",
       "      <td>1.346081e+01</td>\n",
       "      <td>34.268605</td>\n",
       "    </tr>\n",
       "    <tr>\n",
       "      <th>std</th>\n",
       "      <td>1.974714e+03</td>\n",
       "      <td>1.363698e-01</td>\n",
       "      <td>3.089648e-01</td>\n",
       "      <td>2.392885e-01</td>\n",
       "      <td>7.080417e-01</td>\n",
       "      <td>10.060782</td>\n",
       "      <td>3.291190e+01</td>\n",
       "      <td>10.060782</td>\n",
       "    </tr>\n",
       "    <tr>\n",
       "      <th>min</th>\n",
       "      <td>6.000000e+01</td>\n",
       "      <td>0.000000e+00</td>\n",
       "      <td>-1.225143e+02</td>\n",
       "      <td>0.000000e+00</td>\n",
       "      <td>-1.225143e+02</td>\n",
       "      <td>1878.000000</td>\n",
       "      <td>1.000000e+00</td>\n",
       "      <td>18.000000</td>\n",
       "    </tr>\n",
       "    <tr>\n",
       "      <th>25%</th>\n",
       "      <td>3.590000e+02</td>\n",
       "      <td>3.776931e+01</td>\n",
       "      <td>-1.224130e+02</td>\n",
       "      <td>3.777003e+01</td>\n",
       "      <td>-1.224117e+02</td>\n",
       "      <td>1980.000000</td>\n",
       "      <td>5.983333e+00</td>\n",
       "      <td>27.000000</td>\n",
       "    </tr>\n",
       "    <tr>\n",
       "      <th>50%</th>\n",
       "      <td>5.710000e+02</td>\n",
       "      <td>3.778053e+01</td>\n",
       "      <td>-1.223983e+02</td>\n",
       "      <td>3.778076e+01</td>\n",
       "      <td>-1.223981e+02</td>\n",
       "      <td>1987.000000</td>\n",
       "      <td>9.516667e+00</td>\n",
       "      <td>32.000000</td>\n",
       "    </tr>\n",
       "    <tr>\n",
       "      <th>75%</th>\n",
       "      <td>8.870000e+02</td>\n",
       "      <td>3.779539e+01</td>\n",
       "      <td>-1.222914e+02</td>\n",
       "      <td>3.779587e+01</td>\n",
       "      <td>-1.222934e+02</td>\n",
       "      <td>1992.000000</td>\n",
       "      <td>1.478333e+01</td>\n",
       "      <td>39.000000</td>\n",
       "    </tr>\n",
       "    <tr>\n",
       "      <th>max</th>\n",
       "      <td>9.121100e+05</td>\n",
       "      <td>4.551000e+01</td>\n",
       "      <td>0.000000e+00</td>\n",
       "      <td>4.551000e+01</td>\n",
       "      <td>0.000000e+00</td>\n",
       "      <td>2001.000000</td>\n",
       "      <td>1.520183e+04</td>\n",
       "      <td>141.000000</td>\n",
       "    </tr>\n",
       "  </tbody>\n",
       "</table>\n",
       "</div>\n",
       "      <button class=\"colab-df-convert\" onclick=\"convertToInteractive('df-bd5f2deb-ad1e-40df-9776-c27833509022')\"\n",
       "              title=\"Convert this dataframe to an interactive table.\"\n",
       "              style=\"display:none;\">\n",
       "        \n",
       "  <svg xmlns=\"http://www.w3.org/2000/svg\" height=\"24px\"viewBox=\"0 0 24 24\"\n",
       "       width=\"24px\">\n",
       "    <path d=\"M0 0h24v24H0V0z\" fill=\"none\"/>\n",
       "    <path d=\"M18.56 5.44l.94 2.06.94-2.06 2.06-.94-2.06-.94-.94-2.06-.94 2.06-2.06.94zm-11 1L8.5 8.5l.94-2.06 2.06-.94-2.06-.94L8.5 2.5l-.94 2.06-2.06.94zm10 10l.94 2.06.94-2.06 2.06-.94-2.06-.94-.94-2.06-.94 2.06-2.06.94z\"/><path d=\"M17.41 7.96l-1.37-1.37c-.4-.4-.92-.59-1.43-.59-.52 0-1.04.2-1.43.59L10.3 9.45l-7.72 7.72c-.78.78-.78 2.05 0 2.83L4 21.41c.39.39.9.59 1.41.59.51 0 1.02-.2 1.41-.59l7.78-7.78 2.81-2.81c.8-.78.8-2.07 0-2.86zM5.41 20L4 18.59l7.72-7.72 1.47 1.35L5.41 20z\"/>\n",
       "  </svg>\n",
       "      </button>\n",
       "      \n",
       "  <style>\n",
       "    .colab-df-container {\n",
       "      display:flex;\n",
       "      flex-wrap:wrap;\n",
       "      gap: 12px;\n",
       "    }\n",
       "\n",
       "    .colab-df-convert {\n",
       "      background-color: #E8F0FE;\n",
       "      border: none;\n",
       "      border-radius: 50%;\n",
       "      cursor: pointer;\n",
       "      display: none;\n",
       "      fill: #1967D2;\n",
       "      height: 32px;\n",
       "      padding: 0 0 0 0;\n",
       "      width: 32px;\n",
       "    }\n",
       "\n",
       "    .colab-df-convert:hover {\n",
       "      background-color: #E2EBFA;\n",
       "      box-shadow: 0px 1px 2px rgba(60, 64, 67, 0.3), 0px 1px 3px 1px rgba(60, 64, 67, 0.15);\n",
       "      fill: #174EA6;\n",
       "    }\n",
       "\n",
       "    [theme=dark] .colab-df-convert {\n",
       "      background-color: #3B4455;\n",
       "      fill: #D2E3FC;\n",
       "    }\n",
       "\n",
       "    [theme=dark] .colab-df-convert:hover {\n",
       "      background-color: #434B5C;\n",
       "      box-shadow: 0px 1px 3px 1px rgba(0, 0, 0, 0.15);\n",
       "      filter: drop-shadow(0px 1px 2px rgba(0, 0, 0, 0.3));\n",
       "      fill: #FFFFFF;\n",
       "    }\n",
       "  </style>\n",
       "\n",
       "      <script>\n",
       "        const buttonEl =\n",
       "          document.querySelector('#df-bd5f2deb-ad1e-40df-9776-c27833509022 button.colab-df-convert');\n",
       "        buttonEl.style.display =\n",
       "          google.colab.kernel.accessAllowed ? 'block' : 'none';\n",
       "\n",
       "        async function convertToInteractive(key) {\n",
       "          const element = document.querySelector('#df-bd5f2deb-ad1e-40df-9776-c27833509022');\n",
       "          const dataTable =\n",
       "            await google.colab.kernel.invokeFunction('convertToInteractive',\n",
       "                                                     [key], {});\n",
       "          if (!dataTable) return;\n",
       "\n",
       "          const docLinkHtml = 'Like what you see? Visit the ' +\n",
       "            '<a target=\"_blank\" href=https://colab.research.google.com/notebooks/data_table.ipynb>data table notebook</a>'\n",
       "            + ' to learn more about interactive tables.';\n",
       "          element.innerHTML = '';\n",
       "          dataTable['output_type'] = 'display_data';\n",
       "          await google.colab.output.renderOutput(dataTable, element);\n",
       "          const docLink = document.createElement('div');\n",
       "          docLink.innerHTML = docLinkHtml;\n",
       "          element.appendChild(docLink);\n",
       "        }\n",
       "      </script>\n",
       "    </div>\n",
       "  </div>\n",
       "  "
      ],
      "text/plain": [
       "       duration_sec  start_station_latitude  ...  duration_minute     member_age\n",
       "count  2.506983e+06            2.506983e+06  ...     2.506983e+06  829997.000000\n",
       "mean   8.076483e+02            3.776506e+01  ...     1.346081e+01      34.268605\n",
       "std    1.974714e+03            1.363698e-01  ...     3.291190e+01      10.060782\n",
       "min    6.000000e+01            0.000000e+00  ...     1.000000e+00      18.000000\n",
       "25%    3.590000e+02            3.776931e+01  ...     5.983333e+00      27.000000\n",
       "50%    5.710000e+02            3.778053e+01  ...     9.516667e+00      32.000000\n",
       "75%    8.870000e+02            3.779539e+01  ...     1.478333e+01      39.000000\n",
       "max    9.121100e+05            4.551000e+01  ...     1.520183e+04     141.000000\n",
       "\n",
       "[8 rows x 8 columns]"
      ]
     },
     "execution_count": 19,
     "metadata": {},
     "output_type": "execute_result"
    }
   ],
   "source": [
    "df['member_age'] = 2019 - df['member_birth_year']\n",
    "df.describe()"
   ]
  },
  {
   "cell_type": "code",
   "execution_count": 20,
   "metadata": {
    "colab": {
     "base_uri": "https://localhost:8080/",
     "height": 374
    },
    "id": "Bkp3ybYQptHN",
    "outputId": "642b0e95-0c8e-4ab0-eb3b-688614b8dfc8"
   },
   "outputs": [
    {
     "data": {
      "image/png": "[encoded data removed]",
      "text/plain": [
       "<Figure size 576x432 with 1 Axes>"
      ]
     },
     "metadata": {
      "needs_background": "light"
     },
     "output_type": "display_data"
    }
   ],
   "source": [
    "# plotting the distribution of member's age, visually examine for some outliers over 100 yrs old\n",
    "\n",
    "plt.figure(figsize=[8, 6])\n",
    "bins = np.arange(0, df['member_age'].max()+5, 5)\n",
    "plt.hist(df['member_age'].dropna(), bins=bins);"
   ]
  },
  {
   "cell_type": "markdown",
   "metadata": {
    "id": "-D9HtiPoqbb8"
   },
   "source": [
    "#### Issue #4 & #5\n",
    "* filtering out outlier ages from visually examination of the distribution above\n",
    "* casting 'member_birth_year' and 'member_age' to integer instead of float type"
   ]
  },
  {
   "cell_type": "code",
   "execution_count": 21,
   "metadata": {
    "colab": {
     "base_uri": "https://localhost:8080/"
    },
    "id": "xvR0qFhrqX-Z",
    "outputId": "0847f3f5-5424-48e6-eef9-8e9fc8c25818"
   },
   "outputs": [
    {
     "name": "stdout",
     "output_type": "stream",
     "text": [
      "<class 'pandas.core.frame.DataFrame'>\n",
      "Int64Index: 2504488 entries, 0 to 2506982\n",
      "Data columns (total 23 columns):\n",
      " #   Column                   Non-Null Count    Dtype         \n",
      "---  ------                   --------------    -----         \n",
      " 0   duration_sec             2504488 non-null  int64         \n",
      " 1   start_time               2504488 non-null  datetime64[ns]\n",
      " 2   end_time                 2504488 non-null  datetime64[ns]\n",
      " 3   start_station_id         2504488 non-null  object        \n",
      " 4   start_station_name       2424355 non-null  object        \n",
      " 5   start_station_latitude   2504488 non-null  float64       \n",
      " 6   start_station_longitude  2504488 non-null  float64       \n",
      " 7   end_station_id           2504488 non-null  object        \n",
      " 8   end_station_name         2422138 non-null  object        \n",
      " 9   end_station_latitude     2504488 non-null  float64       \n",
      " 10  end_station_longitude    2504488 non-null  float64       \n",
      " 11  bike_id                  2504488 non-null  object        \n",
      " 12  user_type                2504488 non-null  category      \n",
      " 13  member_birth_year        2504488 non-null  int64         \n",
      " 14  member_gender            827505 non-null   category      \n",
      " 15  bike_share_for_all_trip  2261229 non-null  object        \n",
      " 16  rental_access_method     120838 non-null   object        \n",
      " 17  start_date               2504488 non-null  object        \n",
      " 18  start_hourofday          2504488 non-null  object        \n",
      " 19  start_dayofweek          2504488 non-null  object        \n",
      " 20  start_month              2504488 non-null  object        \n",
      " 21  duration_minute          2504488 non-null  float64       \n",
      " 22  member_age               2504488 non-null  int64         \n",
      "dtypes: category(2), datetime64[ns](2), float64(5), int64(3), object(11)\n",
      "memory usage: 425.1+ MB\n"
     ]
    }
   ],
   "source": [
    "#df['member_birth_year'] = df['member_birth_year'].astype('int')\n",
    "#df['member_age'] = df['member_age'].astype('int')\n",
    "df['member_birth_year'] = df['member_birth_year'].fillna(df['member_birth_year'].mean())\n",
    "df['member_age'] = df['member_age'].fillna(df['member_age'].mean())\n",
    "df['member_birth_year'] = df['member_birth_year'].astype('int')\n",
    "df['member_age'] = df['member_age'].astype('int')\n",
    "#slicing dataset to get members whose age is less than or equal to 70\n",
    "df = df.query('member_age <= 70')\n",
    "df.info(null_counts=True)"
   ]
  },
  {
   "cell_type": "markdown",
   "metadata": {
    "id": "G0hzPns1qk33"
   },
   "source": [
    "### What is the structure of your dataset?\n",
    "\n",
    "> The original combined data contains approximately 1,860,000 individual trip records with 16 variables collected. The variables can be divided into 3 major categories:\n",
    "> * trip duration: duration_sec, start_time, end_time\n",
    "> * station info: start_station_id, start_station_name, start_station_latitude, start_station_longitude, end_station_id, end_station_name, end_station_latitude, end_station_longitude\n",
    "> * member info (anonymized): bike_id, user_type, member_birth_year, member_gender, bike_share_for_all_trip\n",
    "\n",
    "Derived features/variables to assist exploration and analysis:\n",
    "\n",
    "> * trip info: duration_minute, start_date, start_hourofday, start_dayofweek, start_month\n",
    "> * member: member_age\n",
    "\n",
    "### What is/are the main feature(s) of interest in your dataset?\n",
    "\n",
    "> We are most interested in exploring the bike trips' duration and rental events occurrance patterns, along with how these relate to the riders' characteristics, i.e. their user type, gender, age, etc, to get a sense of how and what people are using the bike sharing service for. Sample questions to answer: When are most trips taken in terms of time of day, day of the week, or month of the year? How long does the average trip take? Does the above depend on if a user is a subscriber or customer?\n",
    "\n",
    "### What features in the dataset do you think will help support your investigation into your feature(s) of interest?\n",
    "\n",
    "> Each trip's start date/time and duration information will help understanding how long a trip usually takes and when. The member information like user type, gender and age will help us find out who are the main target customer groups, use the different groups to summarize bike usage data to see if there is any special pattern associated with a specific group of riders."
   ]
  },
  {
   "cell_type": "markdown",
   "metadata": {
    "id": "ifhCRSZrqnpL"
   },
   "source": [
    "## Univariate Exploration\n",
    "\n",
    "*A series of plots to first explore the trips distribution over hour-of-day, day-of-week and month.*"
   ]
  },
  {
   "cell_type": "code",
   "execution_count": 22,
   "metadata": {
    "colab": {
     "base_uri": "https://localhost:8080/",
     "height": 387
    },
    "id": "25s6dCCrqffX",
    "outputId": "10bc0c9d-c318-4e83-b8d5-be70255ab458"
   },
   "outputs": [
    {
     "data": {
      "image/png": "[encoded data removed]",
      "text/plain": [
       "<Figure size 576x432 with 1 Axes>"
      ]
     },
     "metadata": {},
     "output_type": "display_data"
    }
   ],
   "source": [
    "#need to convert 'start_hourofday' field from string to object\n",
    "#for visualization purposes\n",
    "df['start_hourofday'] = df['start_hourofday'].astype('int')\n",
    "\n",
    "# trip distribution over day hours\n",
    "\n",
    "plt.rcParams['figure.figsize'] = 8, 6\n",
    "base_color = sb.color_palette('colorblind')[0]\n",
    "sb.set_style('darkgrid')\n",
    "\n",
    "sb.countplot(data=df, x='start_hourofday', color=base_color);\n",
    "plt.xlabel('Trip Start Hour of Day');\n",
    "plt.ylabel('Count');"
   ]
  },
  {
   "cell_type": "markdown",
   "metadata": {
    "id": "nwiB5uvhqzXF"
   },
   "source": [
    "#### Issue #6\n",
    "cast 'start_dayofweek' to category dtype"
   ]
  },
  {
   "cell_type": "code",
   "execution_count": 23,
   "metadata": {
    "colab": {
     "base_uri": "https://localhost:8080/"
    },
    "id": "lI960GZ6zns4",
    "outputId": "e9f042c7-5132-430f-95d3-0ea4088f2c50"
   },
   "outputs": [
    {
     "data": {
      "text/plain": [
       "(2504488, 23)"
      ]
     },
     "execution_count": 23,
     "metadata": {},
     "output_type": "execute_result"
    }
   ],
   "source": [
    "df.shape"
   ]
  },
  {
   "cell_type": "code",
   "execution_count": 24,
   "metadata": {
    "colab": {
     "base_uri": "https://localhost:8080/",
     "height": 387
    },
    "id": "dIitk-FGqqAN",
    "outputId": "371c4a05-cd23-46ee-f329-18b61c8a46c3"
   },
   "outputs": [
    {
     "data": {
      "image/png": "[encoded data removed]",
      "text/plain": [
       "<Figure size 576x432 with 1 Axes>"
      ]
     },
     "metadata": {},
     "output_type": "display_data"
    }
   ],
   "source": [
    "weekday = ['Monday', 'Tuesday', 'Wednesday', 'Thursday', 'Friday', 'Saturday', 'Sunday']\n",
    "weekdaycat = pd.api.types.CategoricalDtype(ordered=True, categories=weekday)\n",
    "df['start_dayofweek'] = df['start_dayofweek'].astype(weekdaycat)\n",
    "\n",
    "sb.countplot(data=df, x='start_dayofweek', color=base_color);\n",
    "plt.xlabel('Trip Start Day of Week');\n",
    "plt.ylabel('Count');"
   ]
  },
  {
   "cell_type": "markdown",
   "metadata": {
    "id": "RwbBGsj0q8Lm"
   },
   "source": [
    "#### Issue #7\n",
    "cast 'start_month' to category dtype for easy plotting"
   ]
  },
  {
   "cell_type": "code",
   "execution_count": 25,
   "metadata": {
    "colab": {
     "base_uri": "https://localhost:8080/",
     "height": 414
    },
    "id": "by7GybTrq334",
    "outputId": "0f8d5470-c513-4202-9762-ca18c59aafd4"
   },
   "outputs": [
    {
     "data": {
      "image/png": "[encoded data removed]",
      "text/plain": [
       "<Figure size 576x432 with 1 Axes>"
      ]
     },
     "metadata": {},
     "output_type": "display_data"
    }
   ],
   "source": [
    "## trip distribution over months\n",
    "month = ['January', 'February', 'March', 'April', 'May', 'June', 'July', 'August', 'September', 'October', 'November', 'December']\n",
    "monthcat = pd.api.types.CategoricalDtype(ordered=True, categories=month)\n",
    "df['start_month'] = df['start_month'].astype(monthcat)\n",
    "\n",
    "sb.countplot(data=df, x='start_month', color=base_color);\n",
    "plt.xticks(rotation=30);\n",
    "plt.xlabel('Trip Start Month');\n",
    "plt.ylabel('Count');"
   ]
  },
  {
   "cell_type": "code",
   "execution_count": 26,
   "metadata": {
    "colab": {
     "base_uri": "https://localhost:8080/"
    },
    "id": "tNAN9m36rAmx",
    "outputId": "1662e793-50b0-4bf2-b004-52749c0ed95a"
   },
   "outputs": [
    {
     "data": {
      "text/plain": [
       "(2504488, 23)"
      ]
     },
     "execution_count": 26,
     "metadata": {},
     "output_type": "execute_result"
    }
   ],
   "source": [
    "df.shape"
   ]
  },
  {
   "cell_type": "markdown",
   "metadata": {
    "id": "pt1wvsN02Kft"
   },
   "source": [
    "*The trip distribution over day hours peaks around two timeframes, 8am-9am and 17pm-18pm, during typical rush hours. Looking in combined with the trip distribution over day of week plot, it is quite obvious that the majority of rides happened on work days (Mon-Fri) and primary usage is probably for commuting. In the 12 months in 2019, March & July had the most ride trips compared to the others, but overall it was the most popular during Summar, (March-April), probably due to the weather in the area.*\n",
    "\n",
    "<br>\n",
    "The next several plots are around members/users to see what makes up of the riders."
   ]
  },
  {
   "cell_type": "code",
   "execution_count": 27,
   "metadata": {
    "colab": {
     "base_uri": "https://localhost:8080/",
     "height": 398
    },
    "id": "Y91qplM32JI5",
    "outputId": "dd607cde-2c29-485e-f09a-d0b3c8a66a5d"
   },
   "outputs": [
    {
     "data": {
      "image/png": "[encoded data removed]",
      "text/plain": [
       "<Figure size 576x432 with 1 Axes>"
      ]
     },
     "metadata": {},
     "output_type": "display_data"
    }
   ],
   "source": [
    "sb.countplot(data=df, x='user_type', color=base_color);\n",
    "plt.xlabel('User Type');\n",
    "plt.ylabel('Count');"
   ]
  },
  {
   "cell_type": "code",
   "execution_count": 28,
   "metadata": {
    "colab": {
     "base_uri": "https://localhost:8080/",
     "height": 387
    },
    "id": "gAyk2nYtxZDV",
    "outputId": "8e5d66dc-2fdb-4eb9-acf1-9c86ae88b4a8"
   },
   "outputs": [
    {
     "data": {
      "image/png": "[encoded data removed]",
      "text/plain": [
       "<Figure size 576x432 with 1 Axes>"
      ]
     },
     "metadata": {},
     "output_type": "display_data"
    }
   ],
   "source": [
    "sb.countplot(data=df, x='member_gender', color=base_color);\n",
    "plt.xlabel('Gender');\n",
    "plt.ylabel('Count');"
   ]
  },
  {
   "cell_type": "code",
   "execution_count": 29,
   "metadata": {
    "colab": {
     "base_uri": "https://localhost:8080/",
     "height": 398
    },
    "id": "AEMRbGIY3S1t",
    "outputId": "73347144-f17d-4572-ede4-73bd959df48b"
   },
   "outputs": [
    {
     "data": {
      "image/png": "[encoded data removed]",
      "text/plain": [
       "<Figure size 576x432 with 1 Axes>"
      ]
     },
     "metadata": {},
     "output_type": "display_data"
    }
   ],
   "source": [
    "sb.countplot(data=df, x='bike_share_for_all_trip', color=base_color);\n",
    "plt.xlabel('Bike Share for All Trip');\n",
    "plt.ylabel('Count');"
   ]
  },
  {
   "cell_type": "code",
   "execution_count": 30,
   "metadata": {
    "colab": {
     "base_uri": "https://localhost:8080/",
     "height": 398
    },
    "id": "gZLA12Q13XG4",
    "outputId": "2d09d663-ed66-4e7d-c909-6bb1e83649ce"
   },
   "outputs": [
    {
     "data": {
      "image/png": "[encoded data removed]",
      "text/plain": [
       "<Figure size 576x432 with 1 Axes>"
      ]
     },
     "metadata": {},
     "output_type": "display_data"
    }
   ],
   "source": [
    "bins = np.arange(0, df['member_age'].max()+5, 5)\n",
    "plt.hist(data=df, x='member_age', bins=bins);\n",
    "plt.xticks(bins, bins);\n",
    "plt.xlabel('Member Age');\n",
    "plt.ylabel('Count');"
   ]
  },
  {
   "cell_type": "markdown",
   "metadata": {
    "id": "GBl6lWQ-34WT"
   },
   "source": [
    "*Most riders were male subscribers who did not use bike share for all trips. Most members were around 25 to 40 years old, corresponding to the trip distribution plots that most trips were on Mon-Fri and maxed during rush hours of a day. As the age gets older, bike usage dropped significantly.*"
   ]
  },
  {
   "cell_type": "code",
   "execution_count": 31,
   "metadata": {
    "colab": {
     "base_uri": "https://localhost:8080/",
     "height": 398
    },
    "id": "SsPHC69f3dgn",
    "outputId": "68befede-fc3e-4164-905b-9fc0cf726e64"
   },
   "outputs": [
    {
     "data": {
      "image/png": "[encoded data removed]",
      "text/plain": [
       "<Figure size 576x432 with 1 Axes>"
      ]
     },
     "metadata": {},
     "output_type": "display_data"
    }
   ],
   "source": [
    "plt.hist(data=df, x='duration_minute');\n",
    "plt.xlabel('Trip Duration in Minute');"
   ]
  },
  {
   "cell_type": "markdown",
   "metadata": {
    "id": "MWko7j6v4BQR"
   },
   "source": [
    "*It was a little surprising to see the duration distribution spans pretty far to the right (indicates a long time rental, almost 24 hrs) while the majority of the rides were quite short (within 200 mins). Going to zoom in to the most cases for a closer picture of what the distribution is like.*"
   ]
  },
  {
   "cell_type": "code",
   "execution_count": 32,
   "metadata": {
    "colab": {
     "base_uri": "https://localhost:8080/"
    },
    "id": "_MdKLYFh3xEO",
    "outputId": "f399575c-182e-46e2-8f94-d243b657d44b"
   },
   "outputs": [
    {
     "data": {
      "text/plain": [
       "count    2.504488e+06\n",
       "mean     1.346298e+01\n",
       "std      3.291528e+01\n",
       "min      1.000000e+00\n",
       "50%      9.516667e+00\n",
       "99%      6.876667e+01\n",
       "max      1.520183e+04\n",
       "Name: duration_minute, dtype: float64"
      ]
     },
     "execution_count": 32,
     "metadata": {},
     "output_type": "execute_result"
    }
   ],
   "source": [
    "df['duration_minute'].describe(percentiles=[.99])"
   ]
  },
  {
   "cell_type": "code",
   "execution_count": 33,
   "metadata": {
    "colab": {
     "base_uri": "https://localhost:8080/",
     "height": 387
    },
    "id": "maIeWNAp4Ilb",
    "outputId": "225349af-4f5a-4cd5-904e-9b1da67b060c"
   },
   "outputs": [
    {
     "data": {
      "image/png": "[encoded data removed]",
      "text/plain": [
       "<Figure size 576x432 with 1 Axes>"
      ]
     },
     "metadata": {},
     "output_type": "display_data"
    }
   ],
   "source": [
    "bins = np.arange(0, 66, 1)\n",
    "ticks = np.arange(0, 66, 5)\n",
    "plt.hist(data=df, x='duration_minute', bins=bins);\n",
    "plt.xticks(ticks, ticks);\n",
    "plt.xlabel('Trip Duration in Minute');"
   ]
  },
  {
   "cell_type": "markdown",
   "metadata": {
    "id": "u5vvLXGQ4Rqv"
   },
   "source": [
    "*It looks like 99% of the trips were less than 1 hour long with most of them fell between 5 to 10 minutes range. I'll remove the outlier long trips for this study to allow focusing on the most common cases to explore the pattern.*"
   ]
  },
  {
   "cell_type": "code",
   "execution_count": 34,
   "metadata": {
    "colab": {
     "base_uri": "https://localhost:8080/"
    },
    "id": "-grNbmm04Nme",
    "outputId": "77cb634b-e51b-48e5-b66e-8d47d015648c"
   },
   "outputs": [
    {
     "name": "stdout",
     "output_type": "stream",
     "text": [
      "<class 'pandas.core.frame.DataFrame'>\n",
      "Int64Index: 2477927 entries, 6 to 2506982\n",
      "Data columns (total 23 columns):\n",
      " #   Column                   Non-Null Count    Dtype         \n",
      "---  ------                   --------------    -----         \n",
      " 0   duration_sec             2477927 non-null  int64         \n",
      " 1   start_time               2477927 non-null  datetime64[ns]\n",
      " 2   end_time                 2477927 non-null  datetime64[ns]\n",
      " 3   start_station_id         2477927 non-null  object        \n",
      " 4   start_station_name       2398966 non-null  object        \n",
      " 5   start_station_latitude   2477927 non-null  float64       \n",
      " 6   start_station_longitude  2477927 non-null  float64       \n",
      " 7   end_station_id           2477927 non-null  object        \n",
      " 8   end_station_name         2396910 non-null  object        \n",
      " 9   end_station_latitude     2477927 non-null  float64       \n",
      " 10  end_station_longitude    2477927 non-null  float64       \n",
      " 11  bike_id                  2477927 non-null  object        \n",
      " 12  user_type                2477927 non-null  category      \n",
      " 13  member_birth_year        2477927 non-null  int64         \n",
      " 14  member_gender            820378 non-null   category      \n",
      " 15  bike_share_for_all_trip  2237215 non-null  object        \n",
      " 16  rental_access_method     119322 non-null   object        \n",
      " 17  start_date               2477927 non-null  object        \n",
      " 18  start_hourofday          2477927 non-null  int64         \n",
      " 19  start_dayofweek          2477927 non-null  category      \n",
      " 20  start_month              2477927 non-null  category      \n",
      " 21  duration_minute          2477927 non-null  float64       \n",
      " 22  member_age               2477927 non-null  int64         \n",
      "dtypes: category(4), datetime64[ns](2), float64(5), int64(4), object(8)\n",
      "memory usage: 387.6+ MB\n"
     ]
    }
   ],
   "source": [
    "df_backup3 = df.copy()\n",
    "# issue 8: filter out outlier trip records where the duration was very long\n",
    "\n",
    "df = df.query('duration_minute <= 66')\n",
    "df.info(null_counts=True)"
   ]
  },
  {
   "cell_type": "markdown",
   "metadata": {
    "id": "xtfK8gVR4orr"
   },
   "source": [
    "### Discuss the distribution(s) of your variable(s) of interest. Were there any unusual points? Did you need to perform any transformations?\n",
    "\n",
    ">*The number of trips peaked around 8-9am and 17-18pm during a day, there were more trips on work days (Mon-Fri) compared to weekends. Summar time was the most popular season of a year, likely due to the weather.*\n",
    "<br>\n",
    "<br>\n",
    "*User-wise, there were more male riders than female, and most members were subscribers compared to casual riders. The majority of the members did not use bike share for all of their trips, and most were around 25 to 40 years old.*\n",
    "<br>\n",
    "<br>\n",
    "*Most rides were quick and short, lasted between 5 to 10 minutes, though there were some very long outliers like 24hrs.*\n",
    "<br>\n",
    "<br>\n",
    "No transformation was needed luckily due to the straightforwardness of the data."
   ]
  },
  {
   "cell_type": "markdown",
   "metadata": {
    "id": "CUqukqRI5ayY"
   },
   "source": [
    "#### Of the features you investigated, were there any unusual distributions? Did you perform any operations on the data to tidy, adjust, or change the form of the data? If so, why did you do this?\n",
    "\n",
    ">*The distribution of the trip duration was a little surprising at first plotting out the original data. Used .describe() and xticks() to zoom in to a smaller range where most trip records fell, which made the distribution much clearer. In order to help focusing on the main cases of typical use of the system, I filtered out the outlier long trip records for the study with .query().*"
   ]
  },
  {
   "cell_type": "code",
   "execution_count": 35,
   "metadata": {
    "id": "NQtpAVSf4jKe"
   },
   "outputs": [],
   "source": [
    "# save the clean data to a .csv file\n",
    "\n",
    "df.to_csv('fordgobike_trips_2019_clean.csv', index=False)"
   ]
  },
  {
   "cell_type": "markdown",
   "metadata": {
    "id": "dc5re2ws55Rn"
   },
   "source": [
    "## Bivariate Exploration\n",
    "\n",
    "\n",
    "*How does the trip duration distribution vary between customers and subscribers?*"
   ]
  },
  {
   "cell_type": "code",
   "execution_count": 36,
   "metadata": {
    "colab": {
     "base_uri": "https://localhost:8080/",
     "height": 387
    },
    "id": "bVZIealI5oDD",
    "outputId": "5b11472f-bb33-4e50-c18a-3d9ad143dcc2"
   },
   "outputs": [
    {
     "data": {
      "image/png": "[encoded data removed]",
      "text/plain": [
       "<Figure size 576x432 with 1 Axes>"
      ]
     },
     "metadata": {},
     "output_type": "display_data"
    }
   ],
   "source": [
    "sb.violinplot(data=df, x='user_type', y='duration_minute', color=base_color, inner='quartile');\n",
    "plt.xlabel('User Type');\n",
    "plt.ylabel('Trip Duration in Minute');"
   ]
  },
  {
   "cell_type": "markdown",
   "metadata": {
    "id": "JrtcRDQ36NUT"
   },
   "source": [
    "*The trip duration distribution is much narrower for subscribers compared to casual riders on the shorter/quicker trip end overall. It seems like subscribers have a more specific usage or targeted goal riding the bikes compared to customers who vary more and generally rented the bikes for longer.*\n",
    "<br>\n",
    "<br>\n",
    "\n",
    "How does the trip duration distribution vary by gender?"
   ]
  },
  {
   "cell_type": "code",
   "execution_count": 37,
   "metadata": {
    "colab": {
     "base_uri": "https://localhost:8080/",
     "height": 387
    },
    "id": "Vw9RImpH6GQW",
    "outputId": "f4e22258-8b6c-4210-e97b-ebf44b748c6b"
   },
   "outputs": [
    {
     "data": {
      "image/png": "[encoded data removed]",
      "text/plain": [
       "<Figure size 576x432 with 1 Axes>"
      ]
     },
     "metadata": {},
     "output_type": "display_data"
    }
   ],
   "source": [
    "sb.boxplot(data=df, x='member_gender', y='duration_minute', color=base_color);\n",
    "plt.xlabel('Gender');\n",
    "plt.ylabel('Trip Duration in Minute');"
   ]
  },
  {
   "cell_type": "markdown",
   "metadata": {
    "id": "f4yi722j6lcq"
   },
   "source": [
    "*Though not a huge difference, male riders tend to have shorter trips compared to female users, indicated by both a smaller median and shorter IQR.*\n",
    "<br>\n",
    "<br>\n",
    "Average Trip Duration on Weekdays"
   ]
  },
  {
   "cell_type": "code",
   "execution_count": 38,
   "metadata": {
    "colab": {
     "base_uri": "https://localhost:8080/",
     "height": 387
    },
    "id": "4hSUXOvP6hMJ",
    "outputId": "55b123bd-a9b6-415b-c934-9175dbe91b05"
   },
   "outputs": [
    {
     "data": {
      "image/png": "[encoded data removed]",
      "text/plain": [
       "<Figure size 576x432 with 1 Axes>"
      ]
     },
     "metadata": {},
     "output_type": "display_data"
    }
   ],
   "source": [
    "sb.barplot(data=df, x='start_dayofweek', y='duration_minute', color=base_color);\n",
    "plt.xlabel('Day of Week');\n",
    "plt.ylabel('Avg. Trip Duration in Minute');"
   ]
  },
  {
   "cell_type": "markdown",
   "metadata": {
    "id": "Sp5L8un97AoV"
   },
   "source": [
    "*The riding trips are much shorter on Monday through Friday compared to weekends. It indicates a pretty stable and efficient usage of the sharing system on normal work days, while more casual flexible use on weekends.*\n",
    "<br>\n",
    "<br>\n",
    "Average trip duration by month"
   ]
  },
  {
   "cell_type": "code",
   "execution_count": 39,
   "metadata": {
    "colab": {
     "base_uri": "https://localhost:8080/",
     "height": 414
    },
    "id": "6RDyOHb16tyJ",
    "outputId": "b0bca00d-2e54-42fa-9621-47ce48a687a1"
   },
   "outputs": [
    {
     "data": {
      "image/png": "[encoded data removed]",
      "text/plain": [
       "<Figure size 576x432 with 1 Axes>"
      ]
     },
     "metadata": {},
     "output_type": "display_data"
    }
   ],
   "source": [
    "sb.barplot(data=df, x='start_month', y='duration_minute', color=base_color);\n",
    "plt.xticks(rotation=30);\n",
    "plt.xlabel('Month');\n",
    "plt.ylabel('Avg. Trip Duration in Minute');"
   ]
  },
  {
   "cell_type": "markdown",
   "metadata": {
    "id": "PsOQqL7B7f5U"
   },
   "source": [
    "*Starting from March, the average usage time shown an increasing trend almost all the way til October before it down turned. The average longest trips happened during the summer months, around June, July and September, which probably has a lot to do with the weather in the area.*\n",
    "<br>\n",
    "<br>\n",
    "Member age by weekdays"
   ]
  },
  {
   "cell_type": "code",
   "execution_count": 40,
   "metadata": {
    "colab": {
     "base_uri": "https://localhost:8080/",
     "height": 387
    },
    "id": "NW1xaW4g7JnD",
    "outputId": "2c682d9e-aba7-4e0d-f33e-63bcf3715dbf"
   },
   "outputs": [
    {
     "data": {
      "image/png": "[encoded data removed]",
      "text/plain": [
       "<Figure size 576x432 with 1 Axes>"
      ]
     },
     "metadata": {},
     "output_type": "display_data"
    }
   ],
   "source": [
    "sb.boxplot(data=df, x='start_dayofweek', y='member_age', color=base_color);\n",
    "plt.xlabel('Day of Week');\n",
    "plt.ylabel('Member Age');"
   ]
  },
  {
   "cell_type": "markdown",
   "metadata": {
    "id": "QXwlwtqq8C3n"
   },
   "source": [
    "Weekly usage between customers and subscribers"
   ]
  },
  {
   "cell_type": "code",
   "execution_count": 41,
   "metadata": {
    "colab": {
     "base_uri": "https://localhost:8080/",
     "height": 387
    },
    "id": "5h9aI8u37mzF",
    "outputId": "5546608f-fa78-499f-bf24-f5c0d70c4333"
   },
   "outputs": [
    {
     "data": {
      "image/png": "[encoded data removed]",
      "text/plain": [
       "<Figure size 576x432 with 1 Axes>"
      ]
     },
     "metadata": {},
     "output_type": "display_data"
    }
   ],
   "source": [
    "sb.countplot(data=df, x='start_dayofweek', hue='user_type');\n",
    "plt.xlabel('Day of Week');\n",
    "plt.ylabel('Count');"
   ]
  },
  {
   "cell_type": "markdown",
   "metadata": {
    "id": "nNKagZ__8KP3"
   },
   "source": [
    "*There was much more subscriber usage than casual customers overall. The drop of volume on weekends for subscribers indicates that they primarily ride bikes for work commute during work days, whereas almost the opposite pattern of a slight increase of use for customers on weekends demonstrates that the use was more for leisure/touring and relaxing purposes.*\n",
    "\n",
    "Daily usage between customers and subscribers"
   ]
  },
  {
   "cell_type": "code",
   "execution_count": 42,
   "metadata": {
    "colab": {
     "base_uri": "https://localhost:8080/",
     "height": 387
    },
    "id": "p3b-awaE8Gq1",
    "outputId": "97009f91-81e5-4c99-ef06-8736aa6c3c9a"
   },
   "outputs": [
    {
     "data": {
      "image/png": "[encoded data removed]",
      "text/plain": [
       "<Figure size 576x432 with 1 Axes>"
      ]
     },
     "metadata": {},
     "output_type": "display_data"
    }
   ],
   "source": [
    "sb.countplot(data=df, x='start_hourofday', hue='user_type');\n",
    "plt.xlabel('Hour of Day');\n",
    "plt.ylabel('Count');"
   ]
  },
  {
   "cell_type": "markdown",
   "metadata": {
    "id": "JlWNEObf8UJV"
   },
   "source": [
    "*Subscriber usage clearly peaks out on typical rush hours when people go to work in the morning and getting off work in the afternoon, double confirmed their usage purpose and goal of riding. Similar pattern was not observed among customers who tend to ride most in the afternoon or early evening as for a different purpose than the subscriber riders.*\n",
    "<br>\n",
    "<br>\n",
    "Yearly usage between customers and subscribers"
   ]
  },
  {
   "cell_type": "code",
   "execution_count": 43,
   "metadata": {
    "colab": {
     "base_uri": "https://localhost:8080/",
     "height": 414
    },
    "id": "M__rDMrY8QqV",
    "outputId": "4af124ad-b3e6-437b-8cd2-39830006bfa7"
   },
   "outputs": [
    {
     "data": {
      "image/png": "[encoded data removed]",
      "text/plain": [
       "<Figure size 576x432 with 1 Axes>"
      ]
     },
     "metadata": {},
     "output_type": "display_data"
    }
   ],
   "source": [
    "sb.countplot(data=df, x='start_month', hue='user_type');\n",
    "plt.xticks(rotation=30);\n",
    "plt.xlabel('Month');\n",
    "plt.ylabel('Count');"
   ]
  },
  {
   "cell_type": "markdown",
   "metadata": {
    "id": "0GsNvQ1c-cgb"
   },
   "source": [
    "*Both subscribers and customers ride the most during the summer months with subscribers maxed out in March and customers peaked in March. The usage was clearly not popular during winter season like November, December and January likely due to the weather.*\n",
    "\n",
    "Member age between customers and subscribers"
   ]
  },
  {
   "cell_type": "code",
   "execution_count": 44,
   "metadata": {
    "colab": {
     "base_uri": "https://localhost:8080/",
     "height": 387
    },
    "id": "-q0gHwZv-S_a",
    "outputId": "65afb447-28c3-4b0c-b00c-d24048368f73"
   },
   "outputs": [
    {
     "data": {
      "image/png": "[encoded data removed]",
      "text/plain": [
       "<Figure size 576x432 with 1 Axes>"
      ]
     },
     "metadata": {},
     "output_type": "display_data"
    }
   ],
   "source": [
    "sb.boxplot(data=df, x='user_type', y='member_age', color=base_color);\n",
    "plt.xlabel('User Type');\n",
    "plt.ylabel('Member Age');"
   ]
  },
  {
   "cell_type": "markdown",
   "metadata": {
    "id": "RlTTiXuS_bvl"
   },
   "source": [
    "### Talk about some of the relationships you observed in this part of the investigation. How did the feature(s) of interest vary with other features in the dataset?\n",
    "\n",
    ">*There are a lot more subscriber usage than customers. The riding habit/pattern varies a lot between subscribers and customers. Subscribers use the bike sharing system for work commnute thus most trips were on work days (Mon-Fri) and especially during rush hours (when going to work in the morning and getting off work in the afternoon), whereas customers tend to ride for fun in the afternoon or early evenings over weekends. Subscriber users are slightly older than customer users who tend to take longer rides overall especially during the summer*\n",
    "\n",
    "\n",
    "### Did you observe any interesting relationships between the other features (not the main feature(s) of interest)?\n",
    "\n",
    ">*It is interesting to see that subscribers are slightly older than customers on average but take much shorter/quicker rides. And October had the most bike riding usage for subscribers throughout the year.*"
   ]
  },
  {
   "cell_type": "markdown",
   "metadata": {
    "id": "0DNle7-t__yv"
   },
   "source": [
    "## Multivariate Exploration\n",
    "\n",
    "How does the average trip duration vary in weekdays between customers and subscribers?"
   ]
  },
  {
   "cell_type": "code",
   "execution_count": 45,
   "metadata": {
    "colab": {
     "base_uri": "https://localhost:8080/",
     "height": 387
    },
    "id": "Gu59BjVH-_dj",
    "outputId": "a849718c-4576-4190-9a8f-bfd5e1c66a95"
   },
   "outputs": [
    {
     "data": {
      "image/png": "[encoded data removed]",
      "text/plain": [
       "<Figure size 576x432 with 1 Axes>"
      ]
     },
     "metadata": {},
     "output_type": "display_data"
    }
   ],
   "source": [
    "sb.pointplot(data=df, x='start_dayofweek', y='duration_minute', hue='user_type', dodge=0.3, linestyles=\"\");\n",
    "plt.xlabel('Day of Week');\n",
    "plt.ylabel('Avg. Trip Duration in Minute');"
   ]
  },
  {
   "cell_type": "markdown",
   "metadata": {
    "id": "mZYjDTmNAcNt"
   },
   "source": [
    "*It can be seen from the above plot that subscribers ride much shorter/quicker trips compared to customers on each day of the week. Both user types have an obvious increase of trip duration on Saturdays and Sundays over weekends, especially for casual riders. Subscribers usage seems to be more efficient than customers overall and maintained a very consistent average duration Monday through Friday.*\n",
    "<br>\n",
    "<br>\n",
    "How does the hourly usage vary during weekdays for customers and subscribers?"
   ]
  },
  {
   "cell_type": "code",
   "execution_count": 46,
   "metadata": {
    "colab": {
     "base_uri": "https://localhost:8080/",
     "height": 431
    },
    "id": "hHHhP5YVAHkD",
    "outputId": "6d2fc53d-0c19-4397-9223-8e3c28c0f643"
   },
   "outputs": [
    {
     "data": {
      "image/png": "[encoded data removed]",
      "text/plain": [
       "<Figure size 576x432 with 4 Axes>"
      ]
     },
     "metadata": {},
     "output_type": "display_data"
    }
   ],
   "source": [
    "plt.suptitle('Hourly Usage during Weekdays for Customers and Subscribers')\n",
    "\n",
    "plt.subplot(2, 1, 1)\n",
    "customers = df.query('user_type == \"Customer\"')\n",
    "ct_counts = customers.groupby(['start_dayofweek', 'start_hourofday']).size()\n",
    "ct_counts = ct_counts.reset_index(name='count')\n",
    "ct_counts = ct_counts.pivot(index='start_dayofweek', columns='start_hourofday', values='count')\n",
    "sb.heatmap(ct_counts, cmap='rocket_r');\n",
    "plt.title('Customer', loc='right');\n",
    "plt.xlabel('Hour of Day');\n",
    "plt.ylabel('Day of Week');\n",
    "\n",
    "plt.subplot(2, 1, 2)\n",
    "subscribers = df.query('user_type == \"Subscriber\"')\n",
    "st_counts = subscribers.groupby(['start_dayofweek', 'start_hourofday']).size()\n",
    "st_counts = st_counts.reset_index(name='count')\n",
    "st_counts = st_counts.pivot(index='start_dayofweek', columns='start_hourofday', values='count')\n",
    "sb.heatmap(st_counts, cmap='rocket_r');\n",
    "plt.title('Subscriber', loc='right');\n",
    "plt.xlabel('Hour of Day');\n",
    "plt.ylabel('Day of Week');"
   ]
  },
  {
   "cell_type": "markdown",
   "metadata": {
    "id": "seldZ0EFA2gS"
   },
   "source": [
    ">*The heatmaps shows clearly very different usage pattern/habit between the two type of riders. Subscribers use the system heavily on work days i.e. Monday through Friday whereas customers ride a lot on weekends, especially in the afternoon. Many trips concentrated around 8-9am and 17-18pm on work days for subscribers when used for work commute, yet customers tend to use more in the late afternoon around 17pm Monday to Friday. Other than usage purpose and habit, it may also have to do with the traffic situation around these rush hours in the area.*\n",
    "\n",
    "### Talk about some of the relationships you observed in this part of the investigation. Were there features that strengthened each other in terms of looking at your feature(s) of interest?\n",
    "\n",
    ">*The multivariate exploration strengthened some of the patterns discovered in the previous bivariate exploration as well as univariate exploration, the relationship between the multiple variables plotted are visualized altogether and information are presented combined. The efficient/short period of usage for subscribers corresponds to their high concentration on rush hours Monday through Friday, indicating the use is primarily for work commute. The more relaxing and flexible pattern of customer use shows that they're taking advantage of the bike sharing system quite differently from the subscribers, heavily over weekends and in the afternoon, for city tour or leisure purpose probably.*\n",
    "\n",
    "### Were there any interesting or surprising interactions between features?\n",
    "\n",
    ">*The interactions between features are all supplementing each other and quite make sense when looked at combined, there's no big surprise observed. The usage habit difference between male and female is not that much or obvious throughout the exploration, which could be related to the imbalanced number of female riders/records compared to male ones. It'd be interesting to see how male and female use the system differently if there were more female data.*"
   ]
  },
  {
   "cell_type": "code",
   "execution_count": 1,
   "metadata": {
    "id": "pe-1QcwmAyQJ"
   },
   "outputs": [
    {
     "ename": "SyntaxError",
     "evalue": "invalid syntax (Temp/ipykernel_10568/909845365.py, line 1)",
     "output_type": "error",
     "traceback": [
      "\u001b[1;36m  File \u001b[1;32m\"C:\\Users\\SOUROJ~1\\AppData\\Local\\Temp/ipykernel_10568/909845365.py\"\u001b[1;36m, line \u001b[1;32m1\u001b[0m\n\u001b[1;33m    jupyter nbconvert --to html fordgo_bike_exploration.ipynb\u001b[0m\n\u001b[1;37m            ^\u001b[0m\n\u001b[1;31mSyntaxError\u001b[0m\u001b[1;31m:\u001b[0m invalid syntax\n"
     ]
    }
   ],
   "source": [
    "jupyter nbconvert --to html fordgo_bike_exploration.ipynb"
   ]
  },
  {
   "cell_type": "code",
   "execution_count": null,
   "metadata": {},
   "outputs": [],
   "source": []
  }
 ],
 "metadata": {
  "accelerator": "TPU",
  "colab": {
   "name": "fordgo_bike_exploration.ipynb",
   "provenance": []
  },
  "kernelspec": {
   "display_name": "Python 3 (ipykernel)",
   "language": "python",
   "name": "python3"
  },
  "language_info": {
   "codemirror_mode": {
    "name": "ipython",
    "version": 3
   },
   "file_extension": ".py",
   "mimetype": "text/x-python",
   "name": "python",
   "nbconvert_exporter": "python",
   "pygments_lexer": "ipython3",
   "version": "3.8.1"
  }
 },
 "nbformat": 4,
 "nbformat_minor": 1
}
